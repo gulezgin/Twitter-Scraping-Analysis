{
 "cells": [
  {
   "cell_type": "code",
   "execution_count": null,
   "id": "e41fe60edc190642",
   "metadata": {},
   "outputs": [],
   "source": [
    "#https://pypi.org/project/ntscraper/"
   ]
  },
  {
   "cell_type": "code",
   "execution_count": null,
   "id": "initial_id",
   "metadata": {
    "ExecuteTime": {
     "end_time": "2025-03-05T13:05:39.759012Z",
     "start_time": "2025-03-05T13:05:38.226011Z"
    }
   },
   "outputs": [],
   "source": [
    "%pip install ntscraper"
   ]
  },
  {
   "cell_type": "code",
   "execution_count": null,
   "id": "8aae570f92ccbac4",
   "metadata": {
    "ExecuteTime": {
     "end_time": "2025-03-05T13:07:28.311255Z",
     "start_time": "2025-03-05T13:07:23.467226Z"
    }
   },
   "outputs": [],
   "source": [
    "from ntscraper import Nitter\n",
    "\n",
    "scraper = Nitter(log_level=1, skip_instance_check=False)"
   ]
  },
  {
   "cell_type": "code",
   "execution_count": null,
   "id": "71dfcc78d26230c8",
   "metadata": {
    "ExecuteTime": {
     "end_time": "2025-03-05T13:11:52.850952Z",
     "start_time": "2025-03-05T13:11:52.792939Z"
    }
   },
   "outputs": [],
   "source": [
    "github_hash_tweets = scraper.get_tweets(\"github\", mode='hashtag', number=10)\n"
   ]
  },
  {
   "cell_type": "code",
   "execution_count": null,
   "id": "c2613fa525ff04a7",
   "metadata": {
    "ExecuteTime": {
     "end_time": "2025-03-05T13:13:17.829634Z",
     "start_time": "2025-03-05T13:13:17.803582Z"
    }
   },
   "outputs": [],
   "source": [
    "print(github_hash_tweets)"
   ]
  },
  {
   "cell_type": "code",
   "execution_count": null,
   "id": "692bc2a414e2b42b",
   "metadata": {},
   "outputs": [],
   "source": [
    "bezos_tweets = scraper.get_tweets(\"JeffBezos\", mode='user')\n"
   ]
  },
  {
   "cell_type": "code",
   "execution_count": null,
   "id": "a823e4d58f5dcb74",
   "metadata": {},
   "outputs": [],
   "source": [
    "print(bezos_tweets)"
   ]
  },
  {
   "cell_type": "code",
   "execution_count": null,
   "id": "570447692921d7d8",
   "metadata": {},
   "outputs": [],
   "source": [
    "import csv\n",
    "\n",
    "tweets_data = scraper.get_tweets(\"JeffBezos\", mode=\"user\", number=10)\n",
    "\n",
    "with open('scraped_tweets.csv', mode='w', newline='', encoding='utf-8') as file:\n",
    "    writer=csv.writer(file)\n",
    "    writer.writerow([\"username\", \"content\"])\n",
    "    \n",
    "    for tweet in tweets_data['tweets']:\n",
    "        writer.writerow([tweet['user']['username'],tweet['text']])\n",
    "\n",
    "print(\"tweets saved to scraped_tweets.csv\")"
   ]
  },
  {
   "cell_type": "code",
   "execution_count": null,
   "id": "f5456d60c421b63e",
   "metadata": {},
   "outputs": [],
   "source": [
    "#Multiprocessing\n",
    "terms = [\"github\", \"bezos\", \"musk\"]\n",
    "\n",
    "results = scraper.get_tweets(terms, mode='term')"
   ]
  },
  {
   "cell_type": "code",
   "execution_count": null,
   "id": "60e57d973abc1b9a",
   "metadata": {},
   "outputs": [],
   "source": [
    "#Get single tweet\n",
    "tweet = scraper.get_tweet_by_id(\"x\", \"1826317783430303888\")\n"
   ]
  },
  {
   "cell_type": "code",
   "execution_count": null,
   "id": "7a09745738c390c8",
   "metadata": {},
   "outputs": [],
   "source": [
    "#Get profile information\n",
    "bezos_information = scraper.get_profile_info(\"JeffBezos\")\n"
   ]
  },
  {
   "cell_type": "code",
   "execution_count": null,
   "id": "ed4e0b3c6de9a226",
   "metadata": {},
   "outputs": [],
   "source": [
    "#Multiprocessing\n",
    "usernames = [\"x\", \"github\"]\n",
    "\n",
    "results = scraper.get_profile_info(usernames)\n"
   ]
  },
  {
   "cell_type": "code",
   "execution_count": null,
   "id": "69eecd85f6d89aa7",
   "metadata": {},
   "outputs": [],
   "source": [
    "#Get random Nitter instance\n",
    "random_instance = scraper.get_random_instance()\n"
   ]
  }
 ],
 "metadata": {
  "kernelspec": {
   "display_name": "Python 3 (ipykernel)",
   "language": "python",
   "name": "python3"
  },
  "language_info": {
   "codemirror_mode": {
    "name": "ipython",
    "version": 3
   },
   "file_extension": ".py",
   "mimetype": "text/x-python",
   "name": "python",
   "nbconvert_exporter": "python",
   "pygments_lexer": "ipython3",
   "version": "3.11.5"
  }
 },
 "nbformat": 4,
 "nbformat_minor": 5
}
